{
 "cells": [
  {
   "cell_type": "markdown",
   "metadata": {},
   "source": [
    "# LAboratory work 5"
   ]
  },
  {
   "cell_type": "markdown",
   "metadata": {},
   "source": [
    "Topic: ‘Building fractals using L-systems’."
   ]
  },
  {
   "cell_type": "markdown",
   "metadata": {},
   "source": [
    "## Task 1"
   ]
  },
  {
   "cell_type": "code",
   "execution_count": 1,
   "metadata": {},
   "outputs": [],
   "source": [
    "import turtle\n",
    "from functools import reduce"
   ]
  },
  {
   "cell_type": "code",
   "execution_count": 2,
   "metadata": {},
   "outputs": [],
   "source": [
    "FRACTALS = {\n",
    "    1: {\n",
    "        'name': \"Сніжинка\",\n",
    "        'axiom': \"-D--D\",\n",
    "        'rules': {\n",
    "            'A': 'F++FFFF--F--FFFF++F++FFFF--F',\n",
    "            'B': 'F--FFFF++F++FFFF--F--FFFF++F',\n",
    "            'C': 'BFA--BFA',\n",
    "            'D': 'CFC--CFC'\n",
    "        },\n",
    "        'angle': 45,\n",
    "        'iterations': 3,\n",
    "        'step': 3\n",
    "    },\n",
    "    2: {\n",
    "        'name': \"Дракон\",\n",
    "        'axiom': \"XF\",\n",
    "        'rules': {\n",
    "            'X': 'X+YF++YF-FX--FXFX-YF+',\n",
    "            'Y': '-FX+YFYF++YF+FX--FX-Y'\n",
    "        },\n",
    "        'angle': 60,\n",
    "        'iterations': 5,\n",
    "        'step': 5\n",
    "    },\n",
    "    3: {\n",
    "        'name': \"3\",\n",
    "        'axiom': \"F+F+F+F\",\n",
    "        'rules': {\n",
    "            'F': 'FF+F-F+F+FF'\n",
    "        },\n",
    "        'angle': 90,\n",
    "        'iterations': 3,\n",
    "        'step': 5\n",
    "    },\n",
    "    4: {\n",
    "        'name': \"4\",\n",
    "        'axiom': \"X\",\n",
    "        'rules': {\n",
    "            'X': 'X+YF+',\n",
    "            'Y': '-FX-Y'\n",
    "        },\n",
    "        'angle': 90,\n",
    "        'iterations': 6,\n",
    "        'step': 3\n",
    "    },\n",
    "    5: {\n",
    "        'name': \"П’ятикутна фрактальна сніжинка\",\n",
    "        'axiom': \"F++F++F++F++F\",\n",
    "        'rules': {\n",
    "            'F': \"F++F++F+++++F-F++F\"\n",
    "        },\n",
    "        'angle': 36,\n",
    "        'iterations': 2,\n",
    "        'step': 8\n",
    "    }\n",
    "}"
   ]
  },
  {
   "cell_type": "code",
   "execution_count": 3,
   "metadata": {},
   "outputs": [],
   "source": [
    "def abide(axiom, rules, iterations):\n",
    "    def apply_rules(s, _):\n",
    "        return ''.join(rules.get(ch, ch) for ch in s)\n",
    "    return reduce(apply_rules, range(iterations), axiom)"
   ]
  },
  {
   "cell_type": "code",
   "execution_count": 4,
   "metadata": {},
   "outputs": [],
   "source": [
    "def plot(rules_map, angle, step, angle_range=None):\n",
    "\n",
    "    count = rules_map.count('+') + rules_map.count('-')\n",
    "    current_step = 0\n",
    "    \n",
    "    for cmd in rules_map:\n",
    "        match cmd:\n",
    "            case 'F':\n",
    "                turtle.forward(step)\n",
    "            case '+':\n",
    "                if angle_range:\n",
    "                    task_4 = angle + (angle_range[1] - angle) * (current_step / count)\n",
    "                    turtle.right(task_4)\n",
    "                else:\n",
    "                    turtle.right(angle)\n",
    "                current_step += 1\n",
    "            case '-':\n",
    "                if angle_range:\n",
    "                    task_4 = angle + (angle_range[1] - angle) * (current_step / count)\n",
    "                    turtle.left(task_4)\n",
    "                else:\n",
    "                    turtle.left(angle)\n",
    "                current_step += 1"
   ]
  },
  {
   "cell_type": "code",
   "execution_count": 5,
   "metadata": {},
   "outputs": [],
   "source": [
    "def setup_turtle():\n",
    "    turtle.speed(0)\n",
    "    turtle.penup()\n",
    "    turtle.goto(-250, 250)\n",
    "    turtle.pendown()\n",
    "    turtle.hideturtle()\n",
    "    turtle.color(\"navy\")"
   ]
  },
  {
   "cell_type": "code",
   "execution_count": 6,
   "metadata": {},
   "outputs": [],
   "source": [
    "def simple_fractal(fractal_id=1):\n",
    "    fractal = FRACTALS.get(fractal_id, FRACTALS[1])\n",
    "    \n",
    "    print(f\"Обрано фрактал: {fractal['name']}\")\n",
    "    \n",
    "    instructions = abide(\n",
    "        axiom=fractal['axiom'],\n",
    "        rules=fractal['rules'],\n",
    "        iterations=fractal['iterations']\n",
    "    )\n",
    "    setup_turtle()\n",
    "    plot(\n",
    "        rules_map = instructions,\n",
    "        angle=fractal['angle'],\n",
    "        step=fractal['step']\n",
    "    )\n",
    "    turtle.done()"
   ]
  },
  {
   "cell_type": "code",
   "execution_count": 7,
   "metadata": {},
   "outputs": [],
   "source": [
    "def task_4_fractal(base_angle=30, angle_range=(10, 60), iterations=2, step=3):\n",
    "    axiom = \"X+X+X+X+X+X+X+X\"\n",
    "    rules = {\n",
    "        \"X\": \"X+YF++YF-FX--FXFX-YF+X\",\n",
    "        \"Y\": \"-FX+YFYF++YF+FX--FX-YF\"\n",
    "    }\n",
    "    \n",
    "    rules_map = abide(axiom, rules, iterations)\n",
    "    setup_turtle()\n",
    "    plot(rules_map, base_angle, step, angle_range)\n",
    "    turtle.done()"
   ]
  },
  {
   "cell_type": "code",
   "execution_count": null,
   "metadata": {},
   "outputs": [],
   "source": [
    "if __name__ == \"__main__\":\n",
    "    mode = input(\"1 - default, 2 - with fi \")\n",
    "    \n",
    "    if mode == \"1\":\n",
    "        for id, config in FRACTALS.items():\n",
    "            print(f\"{id} - {config['name']}\")\n",
    "        fractal_id = int(input(\"Номер фрактала: \"))\n",
    "        simple_fractal(fractal_id)\n",
    "    elif mode == \"2\":\n",
    "        task_4_fractal()\n",
    "    else:\n",
    "        print(\"errrrrrrrorsss\")"
   ]
  }
 ],
 "metadata": {
  "kernelspec": {
   "display_name": "envCV",
   "language": "python",
   "name": "python3"
  },
  "language_info": {
   "codemirror_mode": {
    "name": "ipython",
    "version": 3
   },
   "file_extension": ".py",
   "mimetype": "text/x-python",
   "name": "python",
   "nbconvert_exporter": "python",
   "pygments_lexer": "ipython3",
   "version": "3.13.1"
  },
  "orig_nbformat": 4
 },
 "nbformat": 4,
 "nbformat_minor": 2
}

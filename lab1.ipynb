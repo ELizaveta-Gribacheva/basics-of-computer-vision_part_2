{
 "cells": [
  {
   "cell_type": "markdown",
   "metadata": {},
   "source": [
    "# Laboratory wokrk 1"
   ]
  },
  {
   "cell_type": "markdown",
   "metadata": {},
   "source": [
    "**Linear image filtering. Highlight the boundaries of objects.**"
   ]
  },
  {
   "cell_type": "markdown",
   "metadata": {},
   "source": [
    "## Modul"
   ]
  },
  {
   "cell_type": "code",
   "execution_count": 1,
   "metadata": {},
   "outputs": [
    {
     "name": "stdout",
     "output_type": "stream",
     "text": [
      "1\n"
     ]
    }
   ],
   "source": [
    "print(1)\n",
    "\n",
    "import cv2\n",
    "import numpy as np\n",
    "from matplotlib import pyplot as plt\n",
    "import time\n",
    "\n",
    "import pandas as pd"
   ]
  },
  {
   "cell_type": "markdown",
   "metadata": {},
   "source": [
    "## Second PArt"
   ]
  },
  {
   "cell_type": "code",
   "execution_count": 2,
   "metadata": {},
   "outputs": [],
   "source": [
    "img = cv2.imread('./foto_before/photo_plush_toys_1.png')\n",
    "# img = cv2.imread('Screenshot 2025-02-15 at 20.47.12.png')\n",
    "img_2 = cv2.imread('butterfly-9388717_1280.png')\n",
    "img_2_D = cv2.imread('ai-generated-9390375_1280.png')\n",
    "# cv2.imshow('./foto_before/photo_plush_toys_1.png', img)\n",
    "\n",
    "# cv2.waitKey(0)\n",
    "# cv2.destroyAllWindows"
   ]
  },
  {
   "cell_type": "code",
   "execution_count": 3,
   "metadata": {},
   "outputs": [],
   "source": [
    "data = np.array(img)\n",
    "data_list = img.tolist()"
   ]
  },
  {
   "cell_type": "markdown",
   "metadata": {},
   "source": [
    "### Task A "
   ]
  },
  {
   "cell_type": "markdown",
   "metadata": {},
   "source": [
    "- виконує інвертування кольорової інтенсивності пікселів завантаженого користувачем зображення. Вивести вхідне та отримане зображення;\n",
    "\n",
    "- inverts the color intensity of the pixels of the image uploaded by the image uploaded by the user. Print the input and the resulting image;"
   ]
  },
  {
   "cell_type": "code",
   "execution_count": 4,
   "metadata": {},
   "outputs": [],
   "source": [
    "def a_task(data):\n",
    "    return [[[255 - k for k in j] for j in i] for i in data]  #row i, column -j, pixel value - k"
   ]
  },
  {
   "cell_type": "code",
   "execution_count": 5,
   "metadata": {},
   "outputs": [],
   "source": [
    "def a_inversion_2(data):\n",
    "    return 255 - data"
   ]
  },
  {
   "cell_type": "code",
   "execution_count": 6,
   "metadata": {},
   "outputs": [],
   "source": [
    "def a_inversion_3(image, kernel):\n",
    "\n",
    "    output = np.zeros_like(image, dtype=np.float64)\n",
    "    padded_image = np.pad(image, ((1,1), (1,1), (0,0)), mode='edge')\n",
    "\n",
    "    for i in range(len(image)):\n",
    "        for j in range(len(image[0])):\n",
    "            for k in range (3):\n",
    "                region = padded_image[i:i + kernel.shape[0], j:j + kernel.shape[1]] \n",
    "                output[i, j, k] = np.sum(region[:,:,k] * kernel)\n",
    "  \n",
    "\n",
    "    return output.astype(np.uint8)"
   ]
  },
  {
   "cell_type": "markdown",
   "metadata": {},
   "source": [
    "#### Comparison"
   ]
  },
  {
   "cell_type": "code",
   "execution_count": 7,
   "metadata": {},
   "outputs": [],
   "source": [
    "result = []"
   ]
  },
  {
   "cell_type": "code",
   "execution_count": 8,
   "metadata": {},
   "outputs": [
    {
     "data": {
      "text/plain": [
       "True"
      ]
     },
     "execution_count": 8,
     "metadata": {},
     "output_type": "execute_result"
    }
   ],
   "source": [
    "start_time = time.time()\n",
    "\n",
    "img_inverion = a_task(data_list)\n",
    "img_inverion = np.array(img_inverion, dtype=np.uint8)\n",
    "\n",
    "end_time = time.time()\n",
    "result.append(['a_task', end_time-start_time])\n",
    "\n",
    "cv2.imwrite('./photo_result/img_inverion_1.png', img_inverion)\n"
   ]
  },
  {
   "cell_type": "code",
   "execution_count": 9,
   "metadata": {},
   "outputs": [
    {
     "data": {
      "text/plain": [
       "True"
      ]
     },
     "execution_count": 9,
     "metadata": {},
     "output_type": "execute_result"
    }
   ],
   "source": [
    "start_time = time.time()\n",
    "\n",
    "img_inversion_2 = a_inversion_2(data)\n",
    "\n",
    "end_time = time.time()\n",
    "result.append(['a_inversion_2', end_time-start_time])\n",
    "\n",
    "cv2.imwrite('./photo_result/img_inverion_2.png', img_inversion_2)"
   ]
  },
  {
   "cell_type": "code",
   "execution_count": 10,
   "metadata": {},
   "outputs": [
    {
     "data": {
      "text/plain": [
       "True"
      ]
     },
     "execution_count": 10,
     "metadata": {},
     "output_type": "execute_result"
    }
   ],
   "source": [
    "start_time = time.time()\n",
    "\n",
    "kernel = np.array([[0, 0, 0], [0, -1, 0], [0, 0, 0]])  \n",
    "kernel = np.flipud(np.fliplr(kernel)) \n",
    "\n",
    "img_inversion_3 = a_inversion_3(img, kernel)\n",
    "\n",
    "end_time = time.time()\n",
    "result.append(['img_inversion_3', end_time-start_time])\n",
    "\n",
    "cv2.imwrite('./photo_result/img_inversion_3.png', img_inversion_3)"
   ]
  },
  {
   "cell_type": "code",
   "execution_count": 11,
   "metadata": {},
   "outputs": [
    {
     "data": {
      "text/plain": [
       "True"
      ]
     },
     "execution_count": 11,
     "metadata": {},
     "output_type": "execute_result"
    }
   ],
   "source": [
    "start_time = time.time()\n",
    "\n",
    "inverted_image = cv2.bitwise_not(img)\n",
    "\n",
    "end_time = time.time()\n",
    "result.append(['cv2', end_time-start_time])\n",
    "\n",
    "cv2.imwrite('./photo_result/img_inversion_4.png', inverted_image)"
   ]
  },
  {
   "cell_type": "code",
   "execution_count": 12,
   "metadata": {},
   "outputs": [
    {
     "data": {
      "text/html": [
       "<style type=\"text/css\">\n",
       "#T_9ce87_row0_col1 {\n",
       "  background-color: #0e8245;\n",
       "  color: #f1f1f1;\n",
       "}\n",
       "#T_9ce87_row1_col1, #T_9ce87_row3_col1 {\n",
       "  background-color: #006837;\n",
       "  color: #f1f1f1;\n",
       "}\n",
       "#T_9ce87_row2_col1 {\n",
       "  background-color: #a50026;\n",
       "  color: #f1f1f1;\n",
       "}\n",
       "</style>\n",
       "<table id=\"T_9ce87\">\n",
       "  <thead>\n",
       "    <tr>\n",
       "      <th class=\"blank level0\" >&nbsp;</th>\n",
       "      <th id=\"T_9ce87_level0_col0\" class=\"col_heading level0 col0\" >Function</th>\n",
       "      <th id=\"T_9ce87_level0_col1\" class=\"col_heading level0 col1\" >Time</th>\n",
       "    </tr>\n",
       "  </thead>\n",
       "  <tbody>\n",
       "    <tr>\n",
       "      <th id=\"T_9ce87_level0_row0\" class=\"row_heading level0 row0\" >0</th>\n",
       "      <td id=\"T_9ce87_row0_col0\" class=\"data row0 col0\" >a_task</td>\n",
       "      <td id=\"T_9ce87_row0_col1\" class=\"data row0 col1\" >0.839869</td>\n",
       "    </tr>\n",
       "    <tr>\n",
       "      <th id=\"T_9ce87_level0_row1\" class=\"row_heading level0 row1\" >1</th>\n",
       "      <td id=\"T_9ce87_row1_col0\" class=\"data row1 col0\" >a_inversion_2</td>\n",
       "      <td id=\"T_9ce87_row1_col1\" class=\"data row1 col1\" >0.001497</td>\n",
       "    </tr>\n",
       "    <tr>\n",
       "      <th id=\"T_9ce87_level0_row2\" class=\"row_heading level0 row2\" >2</th>\n",
       "      <td id=\"T_9ce87_row2_col0\" class=\"data row2 col0\" >img_inversion_3</td>\n",
       "      <td id=\"T_9ce87_row2_col1\" class=\"data row2 col1\" >17.806158</td>\n",
       "    </tr>\n",
       "    <tr>\n",
       "      <th id=\"T_9ce87_level0_row3\" class=\"row_heading level0 row3\" >3</th>\n",
       "      <td id=\"T_9ce87_row3_col0\" class=\"data row3 col0\" >cv2</td>\n",
       "      <td id=\"T_9ce87_row3_col1\" class=\"data row3 col1\" >0.005601</td>\n",
       "    </tr>\n",
       "  </tbody>\n",
       "</table>\n"
      ],
      "text/plain": [
       "<pandas.io.formats.style.Styler at 0x149bef8c0>"
      ]
     },
     "execution_count": 12,
     "metadata": {},
     "output_type": "execute_result"
    }
   ],
   "source": [
    "df = pd.DataFrame(result, columns=['Function', 'Time'])\n",
    "df_table = df.style.background_gradient(subset=[\"Time\"], cmap=\"RdYlGn_r\", vmin=0, vmax=15)\n",
    "df_table"
   ]
  },
  {
   "cell_type": "markdown",
   "metadata": {},
   "source": [
    "### Task B"
   ]
  },
  {
   "cell_type": "markdown",
   "metadata": {},
   "source": [
    "- для деякої (однієї з трьох) компонент виконує зміну, наприклад, до кожного пікселя додає якесь постійне значення. Вивести усі зображення в об’єкти типу ImageView.\n",
    "\n",
    "- for some (one of the three) component performs a change, for example, adds a constant value to each pixel. Print all images in objects of type ImageView."
   ]
  },
  {
   "cell_type": "code",
   "execution_count": 13,
   "metadata": {},
   "outputs": [],
   "source": [
    "def changing_blue(img):\n",
    "\n",
    "    plus = 30\n",
    "    # output = np.zeros_like(img, dtype=np.float64)\n",
    "    result = img.copy().astype(np.uint16)\n",
    "    for i in range(len(img)):\n",
    "        for j in range(len(img[0])):\n",
    "            # for k in range (3):\n",
    "            #     if k == 3:\n",
    "             \n",
    "            #  if (j + i) % 2 == 0:\n",
    "            #     result[i, j] = 0, 0, 0\n",
    "            \n",
    "            # result[i][j][0] = img[i][j][0]  \n",
    "            # result[i][j][1] = img[i][j][1]  \n",
    "            result[i][j][2] =  min(result[i][j][2] + plus, 255)\n",
    "\n",
    "            \n",
    "    return result.astype(np.uint8)"
   ]
  },
  {
   "cell_type": "code",
   "execution_count": 14,
   "metadata": {},
   "outputs": [],
   "source": [
    "cv2.imshow('Original', img)\n",
    "\n",
    "img_taskB = changing_blue(img)\n",
    "cv2.imwrite('./photo_result/img_taskB.png', img_taskB)\n",
    "\n",
    "cv2.imshow('Result', img_taskB)\n",
    "cv2.waitKey(0)\n",
    "cv2.destroyAllWindows()"
   ]
  },
  {
   "cell_type": "markdown",
   "metadata": {},
   "source": [
    "### Task C"
   ]
  },
  {
   "cell_type": "markdown",
   "metadata": {},
   "source": [
    "- виконує розбивку зображення на компоненти Red, Green та Blue.\n",
    "- splits the image into Red, Green, and Blue components."
   ]
  },
  {
   "cell_type": "code",
   "execution_count": 15,
   "metadata": {},
   "outputs": [],
   "source": [
    "def components(img):\n",
    "\n",
    "    red = img.copy()\n",
    "    green = img.copy()\n",
    "    blue = img.copy()\n",
    "\n",
    "    for i in range(img.shape[0]):\n",
    "        for j in range(img.shape[1]):\n",
    "            red[i, j, 1] = 0 \n",
    "            red[i, j, 0] = 0  \n",
    "\n",
    "            green[i, j, 0] = 0  \n",
    "            green[i, j, 2] = 0  \n",
    "\n",
    "            blue[i, j, 1] = 0  \n",
    "            blue[i, j, 2] = 0  \n",
    "\n",
    "    cv2.imshow('original', img)\n",
    "    cv2.imshow('red', red)\n",
    "    cv2.imshow('green', green)\n",
    "    cv2.imshow('blue', blue)\n",
    "\n",
    "    cv2.waitKey(0)\n",
    "    cv2.destroyAllWindows()\n"
   ]
  },
  {
   "cell_type": "code",
   "execution_count": 16,
   "metadata": {},
   "outputs": [],
   "source": [
    "components(img)"
   ]
  },
  {
   "cell_type": "markdown",
   "metadata": {},
   "source": [
    "### Task D"
   ]
  },
  {
   "cell_type": "markdown",
   "metadata": {},
   "source": [
    "- виконує «злиття» двох зображень у певних пропорціях (долях від\n",
    "одиниці, яка береться за 100%). Наприклад, якщо «вклад» першого зображення у нове складає 0.4, то «вклад» другого – 1-0.4=0.6. У\n",
    "загальному «вклад» першого зображення позначимо через α, а «вклад»\n",
    "другого – (1 − α). Тоді шукане зображення можна записати у\n",
    "наступному вигляді:\n",
    "\n",
    "Imagenew = α ∙ Image1 + (1 − α)Image2.\n",
    "\n",
    "За додаткові бали передбачити те, що α – змінна величина, α ∈ (0; 1).\n",
    "Крок зміни обрати самостійно. Вивести анімацію зображень на екран\n",
    "програмного застосунку."
   ]
  },
  {
   "cell_type": "code",
   "execution_count": 17,
   "metadata": {},
   "outputs": [],
   "source": [
    "def cut(img, img_2):\n",
    "\n",
    "    img_height, img_width = img.shape[:2]\n",
    "    img_2_height, img_2_width = img_2.shape[:2]\n",
    "    \n",
    "    if img_height > img_2_height or img_width > img_2_width:\n",
    "        result = img[:img_2_height, :img_2_width]\n",
    "        result_2 = img_2\n",
    "    else:\n",
    "        result = img_2[:img_height, :img_width]\n",
    "        result_2 = img\n",
    "        \n",
    "    return result, result_2\n"
   ]
  },
  {
   "cell_type": "code",
   "execution_count": 18,
   "metadata": {},
   "outputs": [],
   "source": [
    "def taskD(img, img_2, a):\n",
    "    result = img.copy()\n",
    "\n",
    "    for alfa in np.arange(0, a, 0.1):\n",
    "        for i in range(img.shape[0]):\n",
    "            for j in range(img.shape[1]):\n",
    "                for k in range(img.shape[2]):\n",
    "\n",
    "                    ll = alfa*img[i][j][k] + (1-alfa)*img_2[i][j][k]\n",
    "\n",
    "                    # if ll < 0:\n",
    "                    #     ll = 0\n",
    "                    # elif ll > 255:\n",
    "                    #     ll = 255 \n",
    "                    result[i][j][k] = ll\n",
    "        cv2.imshow('Result', result.astype(np.uint8)) \n",
    "        cv2.waitKey(1)\n",
    "    return result.astype(np.uint8)"
   ]
  },
  {
   "cell_type": "code",
   "execution_count": 19,
   "metadata": {},
   "outputs": [
    {
     "ename": "KeyboardInterrupt",
     "evalue": "",
     "output_type": "error",
     "traceback": [
      "\u001b[0;31m---------------------------------------------------------------------------\u001b[0m",
      "\u001b[0;31mKeyboardInterrupt\u001b[0m                         Traceback (most recent call last)",
      "Cell \u001b[0;32mIn[19], line 5\u001b[0m\n\u001b[1;32m      1\u001b[0m img_cut_1, img_cut_2 \u001b[39m=\u001b[39m cut(img_2, img_2_D)\n\u001b[1;32m      3\u001b[0m a \u001b[39m=\u001b[39m \u001b[39m0.4\u001b[39m\n\u001b[0;32m----> 5\u001b[0m img_D \u001b[39m=\u001b[39m taskD(img_cut_1, img_cut_2, a)\n\u001b[1;32m      7\u001b[0m cv2\u001b[39m.\u001b[39mimshow(\u001b[39m'\u001b[39m\u001b[39mResult\u001b[39m\u001b[39m'\u001b[39m, img_D)\n\u001b[1;32m      8\u001b[0m cv2\u001b[39m.\u001b[39mimshow(\u001b[39m'\u001b[39m\u001b[39mFirst\u001b[39m\u001b[39m'\u001b[39m, img_cut_1)\n",
      "Cell \u001b[0;32mIn[18], line 15\u001b[0m, in \u001b[0;36mtaskD\u001b[0;34m(img, img_2, a)\u001b[0m\n\u001b[1;32m      9\u001b[0m             ll \u001b[39m=\u001b[39m alfa\u001b[39m*\u001b[39mimg[i][j][k] \u001b[39m+\u001b[39m (\u001b[39m1\u001b[39m\u001b[39m-\u001b[39malfa)\u001b[39m*\u001b[39mimg_2[i][j][k]\n\u001b[1;32m     11\u001b[0m             \u001b[39m# if ll < 0:\u001b[39;00m\n\u001b[1;32m     12\u001b[0m             \u001b[39m#     ll = 0\u001b[39;00m\n\u001b[1;32m     13\u001b[0m             \u001b[39m# elif ll > 255:\u001b[39;00m\n\u001b[1;32m     14\u001b[0m             \u001b[39m#     ll = 255 \u001b[39;00m\n\u001b[0;32m---> 15\u001b[0m             result[i][j][k] \u001b[39m=\u001b[39m ll\n\u001b[1;32m     16\u001b[0m cv2\u001b[39m.\u001b[39mimshow(\u001b[39m'\u001b[39m\u001b[39mResult\u001b[39m\u001b[39m'\u001b[39m, result\u001b[39m.\u001b[39mastype(np\u001b[39m.\u001b[39muint8)) \n\u001b[1;32m     17\u001b[0m cv2\u001b[39m.\u001b[39mwaitKey(\u001b[39m1\u001b[39m)\n",
      "\u001b[0;31mKeyboardInterrupt\u001b[0m: "
     ]
    },
    {
     "ename": "",
     "evalue": "",
     "output_type": "error",
     "traceback": [
      "\u001b[1;31mThe Kernel crashed while executing code in the the current cell or a previous cell. Please review the code in the cell(s) to identify a possible cause of the failure. Click <a href='https://aka.ms/vscodeJupyterKernelCrash'>here</a> for more info. View Jupyter <a href='command:jupyter.viewOutput'>log</a> for further details."
     ]
    }
   ],
   "source": [
    "img_cut_1, img_cut_2 = cut(img_2, img_2_D)\n",
    "\n",
    "a = 0.4\n",
    "\n",
    "img_D = taskD(img_cut_1, img_cut_2, a)\n",
    "\n",
    "cv2.imshow('Result', img_D)\n",
    "cv2.imshow('First', img_cut_1)\n",
    "cv2.imshow('Second', img_cut_2)\n",
    "\n",
    "\n",
    "cv2.waitKey(0)\n",
    "cv2.destroyAllWindows()"
   ]
  },
  {
   "cell_type": "markdown",
   "metadata": {},
   "source": [
    "### Task C"
   ]
  },
  {
   "cell_type": "markdown",
   "metadata": {},
   "source": [
    "- виконує фільтрацію вхідного зображення з використанням матричних\n",
    "фільтрів, що описані у лабораторній роботі (фільтр розмиття, фільтр\n",
    "поліпшення чіткості, медіанний фільтр, фільтр ерозії і нарощування та\n",
    "фільтр Собеля)."
   ]
  },
  {
   "cell_type": "markdown",
   "metadata": {},
   "source": [
    "Gaussian density function - func dnirm (density norm) is used to calculate a Gaussian distibution\n",
    "\n",
    "$$ \\text{PDF}(x) = \\frac{1}{\\sigma \\sqrt{2\\pi}} e^{-\\frac{(x - \\mu)^2}{2\\sigma^2}} $$\n",
    "\n",
    "- x is the input value \n",
    "\n",
    "- μ is the mean \n",
    "\n",
    "- σ is the standard deviation, which controls the \"spread\" of the Gaussian function.\n",
    "\n",
    " Each element in the kernel represents the influence of that pixel on the center pixel, with closer pixels having a greater influence (higher weight) compared to those farther away.\n",
    "\n",
    "одномерное ядро гауссового ядра (для смягчения краев и уменьшений шума, плавный переход цветов) для равноудаленных точек от центра\n",
    "сума всех значений в этом ядре = 1 => нормализация"
   ]
  },
  {
   "cell_type": "code",
   "execution_count": null,
   "metadata": {},
   "outputs": [],
   "source": [
    "def dnorm(x, mean=0, std_dev=1):\n",
    "    return (1 / (std_dev * np.sqrt(2 * np.pi))) * np.exp(-0.5 * ((x - mean) / std_dev) ** 2)\n",
    "\n",
    "def gaussian_kernel(size, sigma=1, verbose=True):\n",
    "    \n",
    "    kernel_1D = np.linspace(-(size // 2), size // 2, size)\n",
    "    for i in range(size):\n",
    "        kernel_1D[i] = dnorm(kernel_1D[i], 0, sigma)\n",
    "    \n",
    "    kernel_2D = np.outer(kernel_1D.T, kernel_1D.T)\n",
    "    kernel_2D /= kernel_2D.sum()  \n",
    "\n",
    "    if verbose:\n",
    "        plt.imshow(kernel_2D, interpolation='none', cmap='gray')\n",
    "        plt.title(\"Gaussian Kernel\")\n",
    "        plt.colorbar()\n",
    "        plt.show()\n",
    "    return kernel_2D\n",
    "\n",
    "def gaussian(image, kernel_s, sigma=1):\n",
    "\n",
    "    kernel = gaussian_kernel(kernel_s, sigma)\n",
    "    pad_size = kernel_s // 2  # свертка без выходя за предел массивааа\n",
    "    \n",
    "    result = np.zeros_like(image)\n",
    "\n",
    "    for channel in range(image.shape[2]): \n",
    "        img_w_padd = np.pad(image[..., channel], ((pad_size, pad_size), (pad_size, pad_size)), mode='constant')\n",
    "        \n",
    "        for i in range(image.shape[0]):\n",
    "            for j in range(image.shape[1]):\n",
    "                region = img_w_padd[i:i + kernel_s, j:j + kernel_s]\n",
    "                result[i, j, channel] = np.sum(region * kernel)\n",
    "\n",
    "    return result"
   ]
  },
  {
   "cell_type": "code",
   "execution_count": null,
   "metadata": {},
   "outputs": [
    {
     "data": {
      "image/png": "[encoded data removed]",
      "text/plain": [
       "<Figure size 640x480 with 2 Axes>"
      ]
     },
     "metadata": {},
     "output_type": "display_data"
    },
    {
     "data": {
      "text/plain": [
       "True"
      ]
     },
     "execution_count": 21,
     "metadata": {},
     "output_type": "execute_result"
    }
   ],
   "source": [
    "gaussian_img = gaussian(img, 5, sigma=1)\n",
    "cv2.imwrite('./photo_result/img_gaussian.png', gaussian_img)"
   ]
  },
  {
   "cell_type": "code",
   "execution_count": null,
   "metadata": {},
   "outputs": [],
   "source": [
    "def gaussian_2(image, kernel_size, sigma):\n",
    "    return cv2.GaussianBlur(image, (kernel_size, kernel_size), sigma)"
   ]
  },
  {
   "cell_type": "code",
   "execution_count": null,
   "metadata": {},
   "outputs": [
    {
     "data": {
      "text/plain": [
       "True"
      ]
     },
     "execution_count": 23,
     "metadata": {},
     "output_type": "execute_result"
    }
   ],
   "source": [
    "gaussian_img_2 = gaussian_2(img, 11, sigma=1)\n",
    "cv2.imwrite('./photo_result/img_2_gaussian.png', gaussian_img_2)"
   ]
  },
  {
   "cell_type": "markdown",
   "metadata": {},
   "source": [
    "#### фільтр поліпшення чіткості"
   ]
  },
  {
   "cell_type": "code",
   "execution_count": null,
   "metadata": {},
   "outputs": [],
   "source": [
    "def taskE(image):\n",
    "  \n",
    "    kernel = np.array([ [-1, -1, -1], [-1,  9, -1], [-1, -1, -1]])\n",
    "     \n",
    "    output = np.zeros_like(image, dtype=np.float64)\n",
    "    \n",
    "    padded_image = np.pad(image, ((1, 1), (1, 1), (0, 0)), mode='edge')\n",
    "\n",
    "    for i in range(len(image)):\n",
    "        for j in range(len(image[0])):\n",
    "            for k in range(3):  \n",
    "                region = padded_image[i:i + kernel.shape[0], j:j + kernel.shape[1]] \n",
    "                output[i, j, k] = np.sum(region[:, :, k] * kernel)\n",
    "\n",
    "    output[output < 0] = 0\n",
    "    output[output > 255] = 255\n",
    "    \n",
    "    return output.astype(np.uint8)"
   ]
  },
  {
   "cell_type": "code",
   "execution_count": null,
   "metadata": {},
   "outputs": [],
   "source": [
    "img_Result = taskE(img)\n",
    "cv2.imshow('фільтр поліпшення чіткості', img_Result)\n",
    "\n",
    "cv2.waitKey(0)\n",
    "cv2.destroyAllWindows()"
   ]
  },
  {
   "cell_type": "markdown",
   "metadata": {},
   "source": [
    "### медіанний фільтр"
   ]
  },
  {
   "cell_type": "code",
   "execution_count": null,
   "metadata": {},
   "outputs": [],
   "source": [
    "def taskE_2(image, kernel):\n",
    "\n",
    "    output = np.zeros_like(image, dtype=np.float64)\n",
    "    size = kernel//2\n",
    "\n",
    "    if image.ndim == 2:\n",
    "        padded_image = np.pad(image, ((size, size), (size, size)), mode='edge')\n",
    "    else:\n",
    "        padded_image = np.pad(image, ((size, size), (size, size), (0, 0)), mode='edge')\n",
    "\n",
    "    for i in range(image.shape[0]):\n",
    "        for j in range(image.shape[1]):\n",
    "            matrix = padded_image[i:i + kernel, j:j + kernel]\n",
    "            for k in range(image.shape[2]):\n",
    "                output[i, j, k] = np.median(matrix[:, :, k])\n",
    "\n",
    "    return output.astype(np.uint8)"
   ]
  },
  {
   "cell_type": "code",
   "execution_count": null,
   "metadata": {},
   "outputs": [],
   "source": [
    "img_res_2 = taskE_2(img, 3)\n",
    "\n",
    "cv2.imshow('median', img_res_2)\n",
    "\n",
    "cv2.waitKey(0)\n",
    "cv2.destroyAllWindows()"
   ]
  },
  {
   "cell_type": "markdown",
   "metadata": {},
   "source": [
    "### Erosion"
   ]
  },
  {
   "cell_type": "markdown",
   "metadata": {},
   "source": [
    "Erosion is used to **remove pixels** from the boundary of the input image shrinking the object.\n",
    "\n",
    "Erosion operator takes two inputs, one is the image and the other one is the structuring element. The structuring element determines the effect of erosion on the input image."
   ]
  },
  {
   "cell_type": "code",
   "execution_count": null,
   "metadata": {},
   "outputs": [],
   "source": [
    "def function(image, k):\n",
    "    height, width = image.shape\n",
    "    k_height, k_width = k.shape\n",
    "    pad_h, pad_w = k_height // 2, k_width // 2\n",
    "    \n",
    "    padded_image = np.pad(image, ((pad_h, pad_h), (pad_w, pad_w)), mode='constant', constant_values=0)\n",
    "    result = np.zeros_like(image, dtype=np.uint8)\n",
    "    return height, width, padded_image, result, k_height, k_width"
   ]
  },
  {
   "cell_type": "code",
   "execution_count": null,
   "metadata": {},
   "outputs": [],
   "source": [
    "def erosion(image, k):\n",
    "    \n",
    "    height, width, padded_image, result, k_height, k_width = function(image, k)\n",
    "\n",
    "    for i in range(height):\n",
    "        for j in range(width):\n",
    "            l = padded_image[i:i + k_height, j:j + k_width]\n",
    "            \n",
    "            if np.all(l[k == 1] == 1):  \n",
    "                result[i, j] = 1\n",
    "    \n",
    "    return result"
   ]
  },
  {
   "cell_type": "code",
   "execution_count": null,
   "metadata": {},
   "outputs": [],
   "source": [
    "gray = cv2.imread('./foto_before/photo_plush_toys_1.png', cv2.IMREAD_GRAYSCALE)\n",
    "_, binary_image = cv2.threshold(gray, 127, 255, cv2.THRESH_BINARY)\n",
    "kernel = np.array([[0, 1, 0],\n",
    "                   [1, 1, 1],\n",
    "                   [0, 1, 0]], np.uint8)\n",
    "\n",
    "\n",
    "erosion_img = erosion(binary_image, kernel)\n",
    "\n",
    "cv2.imshow('Erosion', erosion_img )\n",
    "\n",
    "cv2.waitKey(0)\n",
    "cv2.destroyAllWindows()"
   ]
  },
  {
   "cell_type": "markdown",
   "metadata": {},
   "source": [
    "### Sobel"
   ]
  },
  {
   "cell_type": "markdown",
   "metadata": {},
   "source": [
    "The Sobel Edge Detector is a convolution-based method used for edge detection in images. It employs convolution with Sobel kernels to approximate the gradient of the image intensity. Instead of 2x2 kernels(it is used in Roberts Cross Detector), Sobel utilizes two 3x3 convolution kernels for detecting changes in intensity in the horizontal and vertical directions.\n",
    "\n",
    "$$ \\text{Magnitude} = \\sqrt{(\\text{grad}_x)^2 + (\\text{grad}_y)^2} $$"
   ]
  },
  {
   "cell_type": "code",
   "execution_count": null,
   "metadata": {},
   "outputs": [],
   "source": [
    "def sobel_filter(image):\n",
    "\n",
    "    gorizontal = np.array([[-1, 0, 1],\n",
    "                         [-2, 0, 2],\n",
    "                         [-1, 0, 1]])\n",
    "    \n",
    "    vertical = np.array([[1, 2, 1],\n",
    "                         [0, 0, 0],\n",
    "                         [-1, -2, -1]])\n",
    "\n",
    "    height, width, _ = image.shape\n",
    "    pad_size = 1\n",
    "    padded_image = np.pad(image, ((pad_size, pad_size), (pad_size, pad_size), (0, 0)), mode='constant')\n",
    "    \n",
    "    result = np.zeros((height, width, 3))\n",
    "\n",
    "    for c in range(3):  \n",
    "        for i in range(height):\n",
    "            for j in range(width):\n",
    "                \n",
    "                region = padded_image[i:i + 3, j:j + 3, c]\n",
    "                grad_x = np.sum(region * gorizontal)\n",
    "                grad_y = np.sum(region * vertical)\n",
    "                result[i, j, c] = np.clip(np.sqrt(grad_x**2 + grad_y**2), 0, 255)\n",
    "\n",
    "    return result.astype(np.uint8)"
   ]
  },
  {
   "cell_type": "code",
   "execution_count": null,
   "metadata": {},
   "outputs": [],
   "source": [
    "sobel_result = sobel_filter(img)\n",
    "\n",
    "cv2.imshow('sobel_result', sobel_result)\n",
    "\n",
    "cv2.waitKey(0)\n",
    "cv2.destroyAllWindows()"
   ]
  },
  {
   "cell_type": "code",
   "execution_count": null,
   "metadata": {},
   "outputs": [],
   "source": [
    "kernel = np.ones((5, 5), np.uint8)\n",
    "erosion = cv2.erode(img, kernel, iterations=1)\n",
    "dilation = cv2.dilate(img, kernel, iterations=1)\n",
    "\n",
    "cv2.imshow('erosion_result', dilation)\n",
    "cv2.imshow('dilation_result', dilation)\n",
    "\n",
    "\n",
    "cv2.waitKey(0)\n",
    "cv2.destroyAllWindows()\n"
   ]
  },
  {
   "cell_type": "markdown",
   "metadata": {},
   "source": [
    "# and smth new"
   ]
  },
  {
   "cell_type": "code",
   "execution_count": null,
   "metadata": {},
   "outputs": [],
   "source": [
    "import cv2\n",
    "import numpy as np"
   ]
  },
  {
   "cell_type": "code",
   "execution_count": null,
   "metadata": {},
   "outputs": [
    {
     "name": "stdout",
     "output_type": "stream",
     "text": [
      "віііі 1800\n"
     ]
    }
   ],
   "source": [
    "video = 'videoplayback7.mp4'\n",
    "output_image_path = 'output_image.png'\n",
    "k = 5  \n",
    "\n",
    "cap = cv2.VideoCapture(video)\n",
    "\n",
    "shot = []\n",
    "count = 0\n",
    "\n",
    "while(cap.isOpened()):\n",
    "    ret, frame = cap.read()\n",
    "    if not ret:\n",
    "        break \n",
    "    \n",
    "    shot.append(frame)\n",
    "    count += 1\n",
    "\n",
    "k_frames = []\n",
    "\n",
    "for i in range(0, count, k):\n",
    "    k_frames.append(shot[i])\n",
    "\n",
    "result = np.median(k_frames, axis=0).astype(np.uint8)\n",
    "\n",
    "cv2.imwrite('result_smth_new.png', result)\n",
    "\n",
    "cap.release()\n",
    "print(\"віііі\", count)"
   ]
  },
  {
   "cell_type": "markdown",
   "metadata": {},
   "source": []
  }
 ],
 "metadata": {
  "kernelspec": {
   "display_name": "envCV",
   "language": "python",
   "name": "python3"
  },
  "language_info": {
   "codemirror_mode": {
    "name": "ipython",
    "version": 3
   },
   "file_extension": ".py",
   "mimetype": "text/x-python",
   "name": "python",
   "nbconvert_exporter": "python",
   "pygments_lexer": "ipython3",
   "version": "3.13.1"
  },
  "orig_nbformat": 4
 },
 "nbformat": 4,
 "nbformat_minor": 2
}
